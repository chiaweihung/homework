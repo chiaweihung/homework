{
 "cells": [
  {
   "cell_type": "code",
   "execution_count": 35,
   "metadata": {
    "collapsed": false
   },
   "outputs": [],
   "source": [
    "import numpy as np\n",
    "\n",
    "k1=8600\n",
    "k2=8400\n",
    "\n",
    "premium_call=250\n",
    "premium_put=200\n",
    "\n",
    "Interval=500\n",
    "st=np.arange(k2-Interval,k1+Interval)\n",
    "\n",
    "#st"
   ]
  },
  {
   "cell_type": "code",
   "execution_count": 39,
   "metadata": {
    "collapsed": false
   },
   "outputs": [],
   "source": [
    "payoff_longcall=np.maximum(0,st-k1)-premium_call\n",
    "payoff_longput=np.maximum(k2-st,0)-premium_put\n",
    "\n",
    "payoff_longstrangle=payoff_longcall+payoff_longput"
   ]
  },
  {
   "cell_type": "code",
   "execution_count": 40,
   "metadata": {
    "collapsed": false
   },
   "outputs": [],
   "source": [
    "import matplotlib.pyplot as plt\n",
    "\n",
    "x1=st\n",
    "y1=payoff_longstrangle\n",
    "\n",
    "plt.plot(x1,y1)\n",
    "\n",
    "plt.xlabel(\"Stock Price\") \n",
    "plt.ylabel(\"Payoff\") \n",
    "\n",
    "plt.title(\"Long Strangle\") \n",
    "\n",
    "plt.plot(x,y,lw=3)\n",
    "\n",
    "plt.show()"
   ]
  },
  {
   "cell_type": "code",
   "execution_count": null,
   "metadata": {
    "collapsed": false
   },
   "outputs": [],
   "source": []
  },
  {
   "cell_type": "code",
   "execution_count": null,
   "metadata": {
    "collapsed": true
   },
   "outputs": [],
   "source": []
  }
 ],
 "metadata": {
  "anaconda-cloud": {},
  "kernelspec": {
   "display_name": "Python [Root]",
   "language": "python",
   "name": "Python [Root]"
  },
  "language_info": {
   "codemirror_mode": {
    "name": "ipython",
    "version": 3
   },
   "file_extension": ".py",
   "mimetype": "text/x-python",
   "name": "python",
   "nbconvert_exporter": "python",
   "pygments_lexer": "ipython3",
   "version": "3.5.2"
  }
 },
 "nbformat": 4,
 "nbformat_minor": 0
}
